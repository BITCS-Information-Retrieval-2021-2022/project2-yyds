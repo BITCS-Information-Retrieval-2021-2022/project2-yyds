{
 "cells": [
  {
   "cell_type": "code",
   "execution_count": 15,
   "metadata": {
    "collapsed": true
   },
   "outputs": [],
   "source": [
    "import pymongo\n",
    "\n",
    "client = pymongo.MongoClient()\n",
    "db = client['semantic']\n",
    "authors = db[\"authors\"]\n",
    "papers = db[\"papers\"]\n",
    "author_col = db[\"author_col\"]\n",
    "paper_col = db['paper_col']\n",
    "# res4 = papers.find_one({'_id':'56d905a0dabfae2eeef43068'})\n",
    "# print(res4[\"title\"])"
   ]
  },
  {
   "cell_type": "code",
   "execution_count": null,
   "metadata": {
    "collapsed": false,
    "pycharm": {
     "name": "#%%\n"
    }
   },
   "outputs": [],
   "source": [
    "for doc in author_col.find():\n",
    "    name = doc['name']\n",
    "    result_name = authors.find({'name':name})\n",
    "    list_name = []\n",
    "    for x in result_name:\n",
    "        list_name.append(x)\n",
    "    if len(list_name) > 0:\n",
    "        list_title = []\n",
    "        if \"papers\" in doc:\n",
    "            for x in doc['papers']:\n",
    "                res1 = paper_col.find_one({'paperId':x})\n",
    "                if res1:\n",
    "                    if 'title' in res1:\n",
    "                        list_title.append(res1['title'])\n",
    "            for y in list_name:\n",
    "                list_title1 = []\n",
    "                if \"papers\" in y:\n",
    "                    for z in y['papers']:\n",
    "                        # print(z)\n",
    "                        res2 = papers.find_one({'_id':z})\n",
    "                        # print(res2)\n",
    "                        if res2:\n",
    "                            if 'title' in res2:\n",
    "                                list_title1.append(res2['title'])\n",
    "                list0 = list(set(list_title) & set(list_title1))\n",
    "                if len(list0) > 0:\n",
    "                    y['fieldsOfStudy'] = doc['fieldsOfStudy']\n",
    "                    print(y)\n",
    "                    authors.delete_one({'_id':y['_id']})\n",
    "                    authors.insert_one(y)\n",
    "                    break\n",
    "                else:\n",
    "                    authors.insert_one(doc)\n",
    "                    print(-2)\n",
    "                    break\n",
    "    else:\n",
    "        # pass\n",
    "        print(-1)\n",
    "        authors.insert_one(doc)"
   ]
  },
  {
   "cell_type": "code",
   "execution_count": null,
   "metadata": {
    "collapsed": false,
    "pycharm": {
     "name": "#%%\n"
    }
   },
   "outputs": [],
   "source": []
  }
 ],
 "metadata": {
  "kernelspec": {
   "display_name": "Python 3",
   "language": "python",
   "name": "python3"
  },
  "language_info": {
   "codemirror_mode": {
    "name": "ipython",
    "version": 2
   },
   "file_extension": ".py",
   "mimetype": "text/x-python",
   "name": "python",
   "nbconvert_exporter": "python",
   "pygments_lexer": "ipython2",
   "version": "2.7.6"
  }
 },
 "nbformat": 4,
 "nbformat_minor": 0
}